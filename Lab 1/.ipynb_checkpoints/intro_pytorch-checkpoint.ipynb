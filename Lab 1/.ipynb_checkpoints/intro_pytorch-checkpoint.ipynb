{
 "cells": [
  {
   "cell_type": "code",
   "execution_count": 1,
   "id": "74c2755f-93d7-4ae4-b518-175384a643a8",
   "metadata": {},
   "outputs": [],
   "source": [
    "import torch\n",
    "import numpy as np\n",
    "import pandas as pd"
   ]
  },
  {
   "cell_type": "markdown",
   "id": "c9579be5-5b34-4091-bd62-0ca9819a68e5",
   "metadata": {},
   "source": [
    "# torch.Tensor\n",
    "\n",
    "Pytorch is a Machine Learning framework. Its most basic building block is the data structure <a href=\"https://pytorch.org/docs/stable/tensors.html\">Tensor </a>, with an interface similar to numpy arrays. It offers several possibilities, such as autograd, batch-multiplication, GPU-parallelization and easy backpropagation.\n"
   ]
  },
  {
   "cell_type": "markdown",
   "id": "290b77c8-e7f0-4e1f-805c-0379c067f8c4",
   "metadata": {},
   "source": [
    "Tensors can be constructed using nested lists, numpy arrays, and several special constructors exist (e.g. `torch.ones`, `torch.zeros`)"
   ]
  },
  {
   "cell_type": "code",
   "execution_count": 2,
   "id": "99dd4971-ddfa-4ebf-aa66-da7043cd9867",
   "metadata": {},
   "outputs": [
    {
     "name": "stdout",
     "output_type": "stream",
     "text": [
      "tensor([[-1.,  3.,  1.]])\n"
     ]
    }
   ],
   "source": [
    "tensor1 = torch.Tensor([[-1, 3, 1]]) # constructed from list\n",
    "print(tensor1)"
   ]
  },
  {
   "cell_type": "code",
   "execution_count": 3,
   "id": "1a8c0861-c059-44a9-abcd-b90b1bf41af5",
   "metadata": {},
   "outputs": [
    {
     "name": "stdout",
     "output_type": "stream",
     "text": [
      "tensor([[1., 3., 1.],\n",
      "        [2., 2., 1.]])\n"
     ]
    }
   ],
   "source": [
    "tensor2 = torch.Tensor(np.array([[1, 3, 1],[2, 2, 1]])) # constructed from np.array\n",
    "print(tensor2)"
   ]
  },
  {
   "cell_type": "markdown",
   "id": "70ba7b75-ed74-46f6-96ed-f5a0da7e0d75",
   "metadata": {},
   "source": [
    "Tensors can have different types (Float, Double) with different levels of precision. The type can be selected at initialization, or tensors can be easily typecasted. Tensors can also be created and transfered to different devices (cpu, different gpus)."
   ]
  },
  {
   "cell_type": "code",
   "execution_count": 4,
   "id": "50a9e9a8-dd6b-49a1-ba88-b1a27ae6f34b",
   "metadata": {},
   "outputs": [
    {
     "name": "stdout",
     "output_type": "stream",
     "text": [
      "tensor([[1, 1],\n",
      "        [1, 1],\n",
      "        [1, 1]])\n"
     ]
    }
   ],
   "source": [
    "tensor3 = torch.ones([3, 2], dtype=torch.long, device=torch.device(\"cpu\")) #Of type long, mapped to cpu\n",
    "print(tensor3)"
   ]
  },
  {
   "cell_type": "code",
   "execution_count": 5,
   "id": "b3aaff06-ea30-4a55-b096-0e813e72f7ce",
   "metadata": {},
   "outputs": [
    {
     "name": "stdout",
     "output_type": "stream",
     "text": [
      "tensor([[-1,  3,  1]])\n"
     ]
    }
   ],
   "source": [
    "print(tensor1.long()) # typecasted as long integer"
   ]
  },
  {
   "cell_type": "code",
   "execution_count": 6,
   "id": "ac93dd0b-b10c-4fff-b048-aed15af5ffbd",
   "metadata": {},
   "outputs": [
    {
     "name": "stdout",
     "output_type": "stream",
     "text": [
      "tensor([[-1,  3,  1]])\n"
     ]
    }
   ],
   "source": [
    "print(tensor1.to(torch.long).to(torch.device(\"cpu\"))) #Tensor was already in CPU"
   ]
  },
  {
   "cell_type": "markdown",
   "id": "78f11c88-9b71-4d73-b200-0b28cea6a6c5",
   "metadata": {},
   "source": [
    "Different operations can be performed using tensors, and their <a href=\"https://pytorch.org/docs/stable/notes/broadcasting.html\">broadcasting semantics </a> are similar to numpy."
   ]
  },
  {
   "cell_type": "code",
   "execution_count": 7,
   "id": "bbc8c222-fa55-43a2-80f0-8793e8a2790e",
   "metadata": {},
   "outputs": [
    {
     "name": "stdout",
     "output_type": "stream",
     "text": [
      "tensor([[-1.,  9.,  1.],\n",
      "        [-2.,  6.,  1.]])\n"
     ]
    }
   ],
   "source": [
    "print(tensor1 * tensor2)"
   ]
  },
  {
   "cell_type": "markdown",
   "id": "65ba9802-59b1-4a03-9297-47e734deabb7",
   "metadata": {},
   "source": [
    "# nn.Module\n",
    "The main layers used for building neural networks are contained in the <a href=\"https://pytorch.org/docs/stable/nn.html\">nn</a> module. The functional submodule contains implementations of several functions that can be called without initializating a module."
   ]
  },
  {
   "cell_type": "code",
   "execution_count": 8,
   "id": "6937d59b-55ee-428d-bc97-d96554ee06bf",
   "metadata": {},
   "outputs": [],
   "source": [
    "from torch import nn as nn\n",
    "from torch.nn import functional as F"
   ]
  },
  {
   "cell_type": "code",
   "execution_count": 9,
   "id": "66598732-364b-4296-b906-07444ae2f601",
   "metadata": {},
   "outputs": [
    {
     "data": {
      "text/plain": [
       "tensor([[0., 3., 1.]])"
      ]
     },
     "execution_count": 9,
     "metadata": {},
     "output_type": "execute_result"
    }
   ],
   "source": [
    "relu = nn.ReLU() #nn.Module have to be initialized\n",
    "relu(tensor1)"
   ]
  },
  {
   "cell_type": "code",
   "execution_count": 10,
   "id": "487a4e02-285d-4b54-ba6b-3acca0f854e0",
   "metadata": {},
   "outputs": [
    {
     "data": {
      "text/plain": [
       "tensor([[0., 3., 1.]])"
      ]
     },
     "execution_count": 10,
     "metadata": {},
     "output_type": "execute_result"
    }
   ],
   "source": [
    "F.relu(tensor1) #functional does not need initialization"
   ]
  },
  {
   "cell_type": "markdown",
   "id": "6e9f0282-5d7a-48cf-8c5a-b46c8d6fa50b",
   "metadata": {},
   "source": [
    "The base class for most nn layers is the <a href=\"https://pytorch.org/docs/stable/generated/torch.nn.Module.html\">`nn.Module`</a>. This includes linear layers, convolutional layers, non-linear activation functions... Most of your models will be a subclass of this class.\n",
    "\n",
    "Modules (may) contain different Modules initialized in the constructor, and they have a forward method, containing the logic used for computation"
   ]
  },
  {
   "cell_type": "code",
   "execution_count": 11,
   "id": "067ee291-dbc6-4544-a312-e054bb1dbb97",
   "metadata": {},
   "outputs": [],
   "source": [
    "class LogisticRegression(nn.Module):\n",
    "    def __init__(self, in_features, n_classes = 2):\n",
    "        super().__init__() #required boilerplate\n",
    "        self.linear_layer = nn.Linear(in_features, n_classes)\n",
    "        \n",
    "    def forward(self, x):\n",
    "         return torch.softmax(self.linear_layer(x), -1) # the linear layer is applied to the input, and then a sigmoid function is applied"
   ]
  },
  {
   "cell_type": "code",
   "execution_count": 12,
   "id": "96a87dcb-ba29-4049-9de8-d42b24389750",
   "metadata": {},
   "outputs": [],
   "source": [
    "lreg = LogisticRegression(3)"
   ]
  },
  {
   "cell_type": "markdown",
   "id": "5e4728c3-345b-4269-8cb5-828d1736b90e",
   "metadata": {},
   "source": [
    "Calling an instance uses in the background the forward method, and adds information to the computational graph. If such information is not needed (i.e. during test), `torch.no_grad()` can be used (note: the forward method should not be called directly)"
   ]
  },
  {
   "cell_type": "code",
   "execution_count": 13,
   "id": "65165c3f-d5ce-4e07-a5f3-f5cc42503e17",
   "metadata": {},
   "outputs": [
    {
     "name": "stdout",
     "output_type": "stream",
     "text": [
      "tensor([[0.6003, 0.3997]], grad_fn=<SoftmaxBackward0>)\n"
     ]
    }
   ],
   "source": [
    "logit = lreg(tensor1)\n",
    "print(logit)"
   ]
  },
  {
   "cell_type": "code",
   "execution_count": 14,
   "id": "499dabad-75e9-4bfc-a216-5d4649fdf259",
   "metadata": {},
   "outputs": [
    {
     "name": "stdout",
     "output_type": "stream",
     "text": [
      "tensor([[0.6003, 0.3997]])\n"
     ]
    }
   ],
   "source": [
    "with torch.no_grad():\n",
    "    print(lreg(tensor1))"
   ]
  },
  {
   "cell_type": "markdown",
   "id": "69ff178b-630b-418e-bbaf-cf21b0aaa09c",
   "metadata": {},
   "source": [
    "By calling the `backward()` method from a scalar Tensor, the computational graph is destroyed, and the gradients associated to each parameter present in the `nn.Modules` linked to that Tensor in the computational graph are computed. A typical example is the backpropagation of the loss function, but it's not limited to this."
   ]
  },
  {
   "cell_type": "code",
   "execution_count": 15,
   "id": "cb8acaf9-a2c0-4dc0-982e-37ede0a5aae3",
   "metadata": {},
   "outputs": [],
   "source": [
    "logit.sum().backward()"
   ]
  },
  {
   "cell_type": "markdown",
   "id": "57d4cab4-8b70-4067-a85b-949ae9e6ad2c",
   "metadata": {},
   "source": [
    "# Datasets and DataLoaders\n",
    "\n",
    "Pytorch offers <a href=\"https://pytorch.org/docs/stable/data.html\">convenient classes and functions</a>\n",
    " to help you load and transform your data. Usually you create a dataset for your data, by using one of the built-in classes, or by inheritance.\n",
    " "
   ]
  },
  {
   "cell_type": "code",
   "execution_count": 16,
   "id": "0802ad6c-2ce8-47ee-9ce1-6ab4bd2d8e82",
   "metadata": {},
   "outputs": [
    {
     "name": "stderr",
     "output_type": "stream",
     "text": [
      "<frozen importlib._bootstrap>:228: RuntimeWarning: scipy._lib.messagestream.MessageStream size changed, may indicate binary incompatibility. Expected 56 from C header, got 64 from PyObject\n"
     ]
    }
   ],
   "source": [
    "from torch.utils.data import TensorDataset, Dataset, DataLoader\n",
    "from sklearn.datasets import load_iris"
   ]
  },
  {
   "cell_type": "code",
   "execution_count": 17,
   "id": "653b6363-8218-4037-be91-809ede3b8e9a",
   "metadata": {},
   "outputs": [],
   "source": [
    "dummy_data = TensorDataset(torch.zeros([64, 2, 3]))"
   ]
  },
  {
   "cell_type": "code",
   "execution_count": 18,
   "id": "f57a08a7-b218-48dd-a335-6bc2d069d0ad",
   "metadata": {},
   "outputs": [
    {
     "name": "stdout",
     "output_type": "stream",
     "text": [
      "(tensor([[0., 0., 0.],\n",
      "        [0., 0., 0.]]),)\n"
     ]
    }
   ],
   "source": [
    "print(dummy_data[0])"
   ]
  },
  {
   "cell_type": "code",
   "execution_count": 19,
   "id": "5348ce16-721f-4f43-a111-bdc48e2eea36",
   "metadata": {},
   "outputs": [],
   "source": [
    "# simple example of creating a Dataset by inheritance\n",
    "class IrisDataset (Dataset):\n",
    "    def __init__(self): # constructor\n",
    "        iris = load_iris(as_frame=True) # download the sklearn dataset iris and return a pandas DataFrame\n",
    "        iris_df = iris[\"frame\"] # obtain the dataframe\n",
    "        self.X = torch.Tensor(iris_df.iloc[:, :4].to_numpy()) # create numpy arrays\n",
    "        self.y = torch.Tensor(pd.get_dummies(iris_df.iloc[:, 4]).to_numpy()) # one-hot encoded classes\n",
    "    def __len__(self): # required method, length of the Dataset\n",
    "        return self.X.shape[0]\n",
    "    def __getitem__(self, idx): # required method, how to get a training instance\n",
    "        return self.X[idx], self.y[idx]"
   ]
  },
  {
   "cell_type": "code",
   "execution_count": 20,
   "id": "24c97d41-0b86-49c8-98e5-6b6e1893d741",
   "metadata": {},
   "outputs": [
    {
     "name": "stdout",
     "output_type": "stream",
     "text": [
      "(tensor([5.1000, 3.5000, 1.4000, 0.2000]), tensor([1., 0., 0.]))\n"
     ]
    }
   ],
   "source": [
    "iris_dataset = IrisDataset()\n",
    "print(iris_dataset[0])"
   ]
  },
  {
   "cell_type": "markdown",
   "id": "8d544f9c-97d2-40c0-ae66-f7bde2133911",
   "metadata": {},
   "source": [
    " Datasets are then usually processed by a <a href=\"https://pytorch.org/docs/stable/data.html#torch.utils.data.DataLoader\">DataLoader</a>. A DataLoader loads batches of data, can randomize your data, and can make use of parallelization to load data faster."
   ]
  },
  {
   "cell_type": "code",
   "execution_count": 21,
   "id": "728df96d-7082-4859-9263-b9a85a81f7bf",
   "metadata": {},
   "outputs": [
    {
     "name": "stdout",
     "output_type": "stream",
     "text": [
      "tensor([[6.1000, 2.6000, 5.6000, 1.4000],\n",
      "        [6.1000, 2.8000, 4.0000, 1.3000],\n",
      "        [5.4000, 3.4000, 1.5000, 0.4000],\n",
      "        [6.0000, 3.0000, 4.8000, 1.8000],\n",
      "        [4.8000, 3.4000, 1.6000, 0.2000],\n",
      "        [7.7000, 2.6000, 6.9000, 2.3000],\n",
      "        [7.4000, 2.8000, 6.1000, 1.9000],\n",
      "        [6.8000, 2.8000, 4.8000, 1.4000]])\n",
      "tensor([[0., 0., 1.],\n",
      "        [0., 1., 0.],\n",
      "        [1., 0., 0.],\n",
      "        [0., 0., 1.],\n",
      "        [1., 0., 0.],\n",
      "        [0., 0., 1.],\n",
      "        [0., 0., 1.],\n",
      "        [0., 1., 0.]])\n"
     ]
    }
   ],
   "source": [
    "dl = DataLoader(iris_dataset, num_workers=2, batch_size=8, shuffle=True)\n",
    "for batch in dl: # iterate over the DataLoader\n",
    "    print(batch[0]) # features\n",
    "    print(batch[1]) # target variable\n",
    "    break # stop after loading one example"
   ]
  },
  {
   "cell_type": "markdown",
   "id": "c7da4489-a60e-444f-a896-e4dbb419eb4f",
   "metadata": {},
   "source": [
    "# Optimizers and schedulers\n",
    "\n",
    "<a href=\"https://pytorch.org/docs/stable/optim.html\"> torch.optim</a> contains implementations of several different optimizers and \n",
    "learning rate schedulers."
   ]
  },
  {
   "cell_type": "code",
   "execution_count": 22,
   "id": "59e30ba8-68a2-4dc5-8bac-a14b52598297",
   "metadata": {},
   "outputs": [],
   "source": [
    "from torch.optim import Adam\n",
    "from torch.optim.lr_scheduler import ExponentialLR\n",
    "optimizer = Adam(lreg.parameters()) #passing the parameters from the logistic regression defined earlier\n",
    "scheduler = ExponentialLR(optimizer, gamma = 0.99) #passing the optimizer"
   ]
  },
  {
   "cell_type": "markdown",
   "id": "65a3a44c-284d-4832-b02a-7404a542f842",
   "metadata": {},
   "source": [
    "the method `step()` of both instances update the parameters of the model/optimizer"
   ]
  },
  {
   "cell_type": "code",
   "execution_count": 23,
   "id": "ad96ace7-8665-4621-846a-cce0007b455c",
   "metadata": {},
   "outputs": [],
   "source": [
    "optimizer.step() # updates model parameters based on gradients\n",
    "scheduler.step() # updates learning rate"
   ]
  },
  {
   "cell_type": "markdown",
   "id": "08b93223-f442-43c2-b440-0fa8416e5a2e",
   "metadata": {},
   "source": [
    "# Putting all the pieces together"
   ]
  },
  {
   "cell_type": "markdown",
   "id": "92b28ff6-cf02-4a14-b28f-717221a90d0c",
   "metadata": {},
   "source": [
    "The most important pieces for building and training models were described. Now it's turn to build and train the first example. There exist libraries in the Pytorch ecosystem for training models using higher-level code (e.g. <a href=\"https://pytorch-lightning.readthedocs.io/en/stable/\"> Pytorch lightning</a>), but using base Pytorch it's a manual process. We will use the Iris Dataloader we created."
   ]
  },
  {
   "cell_type": "code",
   "execution_count": 24,
   "id": "39b80336-3bb7-4972-a68c-4631937f0167",
   "metadata": {},
   "outputs": [],
   "source": [
    "logistic_regression = LogisticRegression(4, 3)\n",
    "optimizer = Adam(logistic_regression.parameters(), 0.01)\n",
    "scheduler = ExponentialLR(optimizer, gamma = 0.9)\n",
    "loss_fn = nn.BCELoss()\n",
    "losses = []\n",
    "for epoch in range(25):\n",
    "    losses_batches = []\n",
    "    for batch in dl:\n",
    "        class_probabilities = logistic_regression(batch[0]) # compute the class probabilities\n",
    "        bce = loss_fn(class_probabilities, batch[1]) # compute the loss for the batch\n",
    "        losses_batches.append(bce.detach().cpu().item()) #boilerplate to remove the loss from the computational graph\n",
    "        bce.backward() # backpropagate the gradients\n",
    "        optimizer.step() # optimize model parameters\n",
    "        optimizer.zero_grad() # resets the grad to 0\n",
    "    losses.append(np.mean(losses_batches)) #Average the loss over all batches\n",
    "    scheduler.step() # update the learning rate"
   ]
  },
  {
   "cell_type": "code",
   "execution_count": 25,
   "id": "5a86e7d7-ad6e-4080-9dcf-51cc50eb1b21",
   "metadata": {},
   "outputs": [],
   "source": [
    "import seaborn as sns\n",
    "from matplotlib import pyplot as plt"
   ]
  },
  {
   "cell_type": "code",
   "execution_count": 26,
   "id": "83d20507-08a7-4524-809b-2946489865ed",
   "metadata": {},
   "outputs": [
    {
     "data": {
      "image/png": "[encoded data removed]",
      "text/plain": [
       "<Figure size 432x288 with 1 Axes>"
      ]
     },
     "metadata": {
      "needs_background": "light"
     },
     "output_type": "display_data"
    }
   ],
   "source": [
    "p = sns.lineplot(x=np.arange(len(losses)), y=losses)\n",
    "p.set_title(\"Training curve for multiclass logistic regression\")\n",
    "p.set_xlabel(\"Epoch\")\n",
    "p.set_ylabel(\"BCE\")\n",
    "plt.show()"
   ]
  }
 ],
 "metadata": {
  "kernelspec": {
   "display_name": "mpi_python",
   "language": "python",
   "name": "mpi_python"
  },
  "language_info": {
   "codemirror_mode": {
    "name": "ipython",
    "version": 3
   },
   "file_extension": ".py",
   "mimetype": "text/x-python",
   "name": "python",
   "nbconvert_exporter": "python",
   "pygments_lexer": "ipython3",
   "version": "3.9.7"
  }
 },
 "nbformat": 4,
 "nbformat_minor": 5
}
