{
 "cells": [
  {
   "cell_type": "code",
   "execution_count": 2,
   "metadata": {},
   "outputs": [],
   "source": [
    "import scipy\n",
    "import numpy as np"
   ]
  },
  {
   "cell_type": "code",
   "execution_count": 11,
   "metadata": {
    "collapsed": false,
    "jupyter": {
     "outputs_hidden": false
    },
    "pycharm": {
     "name": "#%%\n"
    }
   },
   "outputs": [],
   "source": [
    "#  Set vars\n",
    "num_samples: int = 100\n",
    "rs: float = 0.24\n",
    "eps: float = 0.25 - rs\n",
    "var: float = rs*(1-rs)/num_samples\n",
    "std: float = np.sqrt(var)"
   ]
  },
  {
   "cell_type": "code",
   "execution_count": 12,
   "metadata": {},
   "outputs": [
    {
     "name": "stdout",
     "output_type": "stream",
     "text": [
      "Probability that R is at most 0.25 is 0.5925643580506446\n"
     ]
    }
   ],
   "source": [
    "# T1.1 Compute P(R <= Rs + eps)\n",
    "prob: float = scipy.stats.norm.cdf(eps/std)\n",
    "print(f\"Probability that R is at most 0.25 is {prob}\")"
   ]
  },
  {
   "cell_type": "code",
   "execution_count": 14,
   "metadata": {},
   "outputs": [
    {
     "name": "stdout",
     "output_type": "stream",
     "text": [
      "The Epsilon to obtain a two sided 95% Confidence Interval is [0.156293244663611, 0.323706755336389]\n"
     ]
    }
   ],
   "source": [
    "# T1.2\n",
    "delta: float = 0.025\n",
    "eps: float = std * scipy.stats.norm.ppf(1-delta)\n",
    "print(f\"The Epsilon to obtain a two sided 95% Confidence Interval is [{rs - eps}, {rs + eps}]\")"
   ]
  },
  {
   "cell_type": "code",
   "execution_count": 16,
   "metadata": {},
   "outputs": [
    {
     "name": "stdout",
     "output_type": "stream",
     "text": [
      "The p-value for T = 6 is 0.34375\n"
     ]
    }
   ],
   "source": [
    "# T2.1\n",
    "T = 7\n",
    "n = 10\n",
    "p = 0.5 # because H0 says both are good and this would be bernoulli with 0.5\n",
    "p_value = 2*(1 - scipy.stats.binom.cdf(T-1, n, p))\n",
    "print(f\"The p-value for T = {T-1} is {p_value}\")"
   ]
  },
  {
   "cell_type": "code",
   "execution_count": 17,
   "metadata": {},
   "outputs": [
    {
     "name": "stdout",
     "output_type": "stream",
     "text": [
      "The p-value for T = 8 wins in 11 tests is 0.2265625\n",
      "The p-value for T = 9 wins in 12 tests is 0.14599609375\n",
      "The p-value for T = 10 wins in 13 tests is 0.09228515625\n",
      "The p-value for T = 11 wins in 14 tests is 0.057373046875\n",
      "The p-value for T = 12 wins in 15 tests is 0.03515625\n",
      "The p-value for T = 13 wins in 16 tests is 0.021270751953125\n",
      "The p-value for T = 14 wins in 17 tests is 0.012725830078125\n",
      "The p-value for T = 15 wins in 18 tests is 0.007537841796875\n",
      "The p-value for T = 16 wins in 19 tests is 0.004425048828125\n",
      "The p-value for T = 17 wins in 20 tests is 0.0025768280029296875\n",
      "The p-value for T = 18 wins in 21 tests is 0.0014896392822265625\n",
      "The p-value for T = 19 wins in 22 tests is 0.0008554458618164062\n"
     ]
    }
   ],
   "source": [
    "possible_combinations = [(i, i + 3) for i in range(8, 20, 1)]\n",
    "\n",
    "for t, n in possible_combinations:\n",
    "    p_value = 2*(1 - scipy.stats.binom.cdf(t-1, n, p))\n",
    "    print(f\"The p-value for T = {t} wins in {n} tests is {p_value}\")"
   ]
  },
  {
   "cell_type": "code",
   "execution_count": 58,
   "metadata": {},
   "outputs": [],
   "source": [
    "# We need at least k = 5 additinal tests"
   ]
  },
  {
   "cell_type": "code",
   "execution_count": 21,
   "metadata": {},
   "outputs": [
    {
     "name": "stdout",
     "output_type": "stream",
     "text": [
      "The p-value is 0.000749749524635579\n"
     ]
    }
   ],
   "source": [
    "# T 2.2\n",
    "acc_alg_1: list = [0.9, 0.8, 0.9, 0.7, 0.75, 0.8, 0.7, 0.9, 0.8, 0.9]\n",
    "acc_alg_2: list = [0.7, 0.65, 0.7, 0.75, 0.76, 0.5, 0.4, 0.95, 0.6, 0.8]\n",
    "mean_deltas: list = [a - b for a, b in zip(acc_alg_1, acc_alg_2)]\n",
    "mean_delta: float =  np.mean(mean_deltas)\n",
    "var: float = np.mean([(x - mean_delta)**2 for x in mean_deltas])\n",
    "\n",
    "T = np.abs(np.sqrt(10) * mean_delta) / np.sqrt(var)\n",
    "\n",
    "# maybe there is a calc error here\n",
    "p = 2 * (1 - scipy.stats.norm.cdf(T))\n",
    "\n",
    "print(f\"The p-value is {p}\")"
   ]
  },
  {
   "cell_type": "code",
   "execution_count": 19,
   "metadata": {},
   "outputs": [
    {
     "data": {
      "text/plain": [
       "0.13400000000000004"
      ]
     },
     "execution_count": 19,
     "metadata": {},
     "output_type": "execute_result"
    }
   ],
   "source": [
    "mean_delta"
   ]
  },
  {
   "cell_type": "code",
   "execution_count": 20,
   "metadata": {},
   "outputs": [
    {
     "data": {
      "text/plain": [
       "3.3707092113074846"
      ]
     },
     "execution_count": 20,
     "metadata": {},
     "output_type": "execute_result"
    }
   ],
   "source": [
    "T"
   ]
  },
  {
   "cell_type": "code",
   "execution_count": null,
   "metadata": {},
   "outputs": [],
   "source": [
    "# yes we would accept under alpha 0.05"
   ]
  }
 ],
 "metadata": {
  "kernelspec": {
   "display_name": "Python 3 (ipykernel)",
   "language": "python",
   "name": "python3"
  },
  "language_info": {
   "codemirror_mode": {
    "name": "ipython",
    "version": 3
   },
   "file_extension": ".py",
   "mimetype": "text/x-python",
   "name": "python",
   "nbconvert_exporter": "python",
   "pygments_lexer": "ipython3",
   "version": "3.10.5"
  }
 },
 "nbformat": 4,
 "nbformat_minor": 4
}
